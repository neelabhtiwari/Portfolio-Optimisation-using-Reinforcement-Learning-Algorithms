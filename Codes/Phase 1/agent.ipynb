{
  "nbformat": 4,
  "nbformat_minor": 0,
  "metadata": {
    "colab": {
      "name": "agent.ipynb",
      "provenance": []
    },
    "kernelspec": {
      "name": "python3",
      "display_name": "Python 3"
    }
  },
  "cells": [
    {
      "cell_type": "code",
      "metadata": {
        "id": "aItUMYKrThuE",
        "colab_type": "code",
        "colab": {
          "base_uri": "https://localhost:8080/",
          "height": 34
        },
        "outputId": "a3ddc6f8-600e-4654-ea96-73dce265f1f3"
      },
      "source": [
        "import keras\n",
        "from keras.models import Sequential\n",
        "from keras.models import load_model\n",
        "from keras.layers import Dense\n",
        "from keras.optimizers import Adam\n",
        "\n",
        "import numpy as np\n",
        "import random\n",
        "from collections import deque\n",
        "\n",
        "class Agent:\n",
        "\tdef __init__(self, state_size, is_eval=False, model_name=\"\"):\n",
        "\t\tself.state_size = state_size # normalized previous days\n",
        "\t\tself.action_size = 3 # sit, buy, sell\n",
        "\t\tself.memory = deque(maxlen=1000)\n",
        "\t\tself.inventory = []\n",
        "\t\tself.model_name = model_name\n",
        "\t\tself.is_eval = is_eval\n",
        "\n",
        "\t\tself.gamma = 0.95  # discount factor\n",
        "\t\tself.epsilon = 1.0   # initial epsilon for greedy policy\n",
        "\t\tself.epsilon_min = 0.01  # minimum attainable epsilon\n",
        "\t\tself.epsilon_decay = 0.995  # time decrease in each episode\n",
        "\n",
        "\t\tself.model = load_model(\"models/\" + model_name) if is_eval else self._model()\n",
        "\n",
        "\tdef _model(self):\n",
        "\t\tmodel = Sequential() # load model\n",
        "\t\tmodel.add(Dense(units=64, input_dim=self.state_size, activation=\"relu\")) # input layer\n",
        "\t\tmodel.add(Dense(units=32, activation=\"relu\"))  # 1,0 function  # hidden layer\n",
        "\t\tmodel.add(Dense(units=8, activation=\"relu\"))  # 2nd hidden layer\n",
        "\t\tmodel.add(Dense(self.action_size, activation=\"linear\"))  # output layer - 3 units\n",
        "\t\tmodel.compile(loss=\"mse\", optimizer=Adam(lr=0.001))  # cost function\n",
        "\n",
        "\t\treturn model\n",
        "\n",
        "\tdef act(self, state):\n",
        "\t\tif not self.is_eval and np.random.rand() <= self.epsilon:\n",
        "\t\t\treturn random.randrange(self.action_size)  # send any random action\n",
        "\n",
        "\t\toptions = self.model.predict(state)\n",
        "\t\treturn np.argmax(options[0])   # send action having maximum value after neurat net \n",
        "\n",
        "\tdef expReplay(self, batch_size):\n",
        "\t\tmini_batch = []\n",
        "\t\tl = len(self.memory)\n",
        "\t\tfor i in xrange(l - batch_size + 1, l):\n",
        "\t\t\tmini_batch.append(self.memory[i])\n",
        "\n",
        "\t\tfor state, action, reward, next_state, done in mini_batch:\n",
        "\t\t\ttarget = reward\n",
        "\t\t\tif not done:\n",
        "\t\t\t\ttarget = reward + self.gamma * np.amax(self.model.predict(next_state)[0])\n",
        "\n",
        "\t\t\ttarget_f = self.model.predict(state)\n",
        "\t\t\ttarget_f[0][action] = target\n",
        "\t\t\tself.model.fit(state, target_f, epochs=1, verbose=0)\n",
        "\n",
        "\t\tif self.epsilon > self.epsilon_min:\n",
        "\t\t\tself.epsilon *= self.epsilon_decay "
      ],
      "execution_count": null,
      "outputs": [
        {
          "output_type": "stream",
          "text": [
            "Using TensorFlow backend.\n"
          ],
          "name": "stderr"
        }
      ]
    },
    {
      "cell_type": "code",
      "metadata": {
        "id": "l4765Pa0Tnff",
        "colab_type": "code",
        "colab": {}
      },
      "source": [
        ""
      ],
      "execution_count": null,
      "outputs": []
    }
  ]
}